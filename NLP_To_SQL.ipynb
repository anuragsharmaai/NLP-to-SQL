{
  "nbformat": 4,
  "nbformat_minor": 0,
  "metadata": {
    "colab": {
      "provenance": []
    },
    "kernelspec": {
      "name": "python3",
      "display_name": "Python 3"
    },
    "language_info": {
      "name": "python"
    }
  },
  "cells": [
    {
      "cell_type": "code",
      "execution_count": null,
      "metadata": {
        "id": "8k2pFjMYVCFH"
      },
      "outputs": [],
      "source": [
        "import numpy as np\n",
        "import pandas as pd\n",
        "import sqlite3\n",
        "\n",
        "df = pd.read_csv(\"fashion_products.csv\")\n",
        "\n",
        "\n",
        "conn = sqlite3.connect('fashion_db.sqlite')\n",
        "c = conn.cursor()\n",
        "\n",
        "\n",
        "df.rename(columns={'User ID': 'user_id',\n",
        "                   'Product ID': 'product_id',\n",
        "                   'Product Name' : 'product_name',\n",
        "                   'Brand' : 'brand',\n",
        "                   'Category' : 'category',\n",
        "                   'Price' : 'price',\n",
        "                   'Color' : 'color',\n",
        "                   'Size' : 'size'}, inplace=True)\n",
        "\n",
        "c.execute('CREATE TABLE IF NOT EXISTS fashion_products (user_id int, product_id int, product_name text, brand text, category text, price int, rating float, color text, size text)')\n",
        "conn.commit()\n",
        "\n",
        "df.to_sql('fashion_products', conn, if_exists='replace', index = False)\n",
        "\n",
        "c.execute('''\n",
        "SELECT product_name FROM fashion_products LIMIT 100\n",
        "          ''')\n",
        "\n",
        "for row in c.fetchall():\n",
        "    print (row)\n",
        "\n"
      ]
    },
    {
      "cell_type": "code",
      "source": [
        "def read_sql_query(sql, db):\n",
        "    conn = sqlite3.connect(db)\n",
        "    cur = conn.cursor()\n",
        "    cur.execute(sql)\n",
        "    rows = cur.fetchall()\n",
        "    for row in rows:\n",
        "        print(row)\n",
        "    conn.close()"
      ],
      "metadata": {
        "id": "0X5CTYJNV6bN"
      },
      "execution_count": 3,
      "outputs": []
    },
    {
      "cell_type": "code",
      "source": [
        "import sqlite3\n",
        "read_sql_query('SELECT * FROM fashion_products LIMIT 10;',\n",
        "               \"fashion_db.sqlite\")\n",
        ""
      ],
      "metadata": {
        "colab": {
          "base_uri": "https://localhost:8080/"
        },
        "id": "mcU3eQW-WU2U",
        "outputId": "6eea751c-197d-4936-b646-aafc7023006a"
      },
      "execution_count": 4,
      "outputs": [
        {
          "output_type": "stream",
          "name": "stdout",
          "text": [
            "(19, 1, 'Dress', 'Adidas', \"Men's Fashion\", 40, 1.0431592108361825, 'Black', 'XL')\n",
            "(97, 2, 'Shoes', 'H&M', \"Women's Fashion\", 82, 4.026416271141911, 'Black', 'L')\n",
            "(25, 3, 'Dress', 'Adidas', \"Women's Fashion\", 44, 3.337937559377053, 'Yellow', 'XL')\n",
            "(57, 4, 'Shoes', 'Zara', \"Men's Fashion\", 23, 1.0495229563128543, 'White', 'S')\n",
            "(79, 5, 'T-shirt', 'Adidas', \"Men's Fashion\", 79, 4.302773408398684, 'Black', 'M')\n",
            "(98, 6, 'Dress', 'Adidas', \"Men's Fashion\", 47, 1.3795657395330458, 'Yellow', 'L')\n",
            "(16, 7, 'Jeans', 'Gucci', \"Men's Fashion\", 37, 1.3567503746842564, 'White', 'XL')\n",
            "(63, 8, 'Sweater', 'Zara', \"Kids' Fashion\", 64, 4.36030328941572, 'Blue', 'XL')\n",
            "(96, 9, 'Sweater', 'H&M', \"Men's Fashion\", 53, 4.466181876278437, 'Green', 'XL')\n",
            "(36, 10, 'T-shirt', 'Zara', \"Kids' Fashion\", 55, 4.093234402033421, 'White', 'XL')\n"
          ]
        }
      ]
    },
    {
      "cell_type": "code",
      "source": [
        "!pip install -q langchain\n",
        "!pip install -q openai"
      ],
      "metadata": {
        "colab": {
          "base_uri": "https://localhost:8080/"
        },
        "collapsed": true,
        "id": "ikX17pbaWjF8",
        "outputId": "4201012f-6765-4829-ac78-0638cf712de8"
      },
      "execution_count": 6,
      "outputs": [
        {
          "output_type": "stream",
          "name": "stdout",
          "text": [
            "\u001b[2K     \u001b[90m━━━━━━━━━━━━━━━━━━━━━━━━━━━━━━━━━━━━━━━━\u001b[0m \u001b[32m974.6/974.6 kB\u001b[0m \u001b[31m10.1 MB/s\u001b[0m eta \u001b[36m0:00:00\u001b[0m\n",
            "\u001b[2K     \u001b[90m━━━━━━━━━━━━━━━━━━━━━━━━━━━━━━━━━━━━━━━━\u001b[0m \u001b[32m321.8/321.8 kB\u001b[0m \u001b[31m28.6 MB/s\u001b[0m eta \u001b[36m0:00:00\u001b[0m\n",
            "\u001b[2K     \u001b[90m━━━━━━━━━━━━━━━━━━━━━━━━━━━━━━━━━━━━━━━━\u001b[0m \u001b[32m125.3/125.3 kB\u001b[0m \u001b[31m13.8 MB/s\u001b[0m eta \u001b[36m0:00:00\u001b[0m\n",
            "\u001b[2K     \u001b[90m━━━━━━━━━━━━━━━━━━━━━━━━━━━━━━━━━━━━━━━━\u001b[0m \u001b[32m145.0/145.0 kB\u001b[0m \u001b[31m10.5 MB/s\u001b[0m eta \u001b[36m0:00:00\u001b[0m\n",
            "\u001b[2K     \u001b[90m━━━━━━━━━━━━━━━━━━━━━━━━━━━━━━━━━━━━━━━━\u001b[0m \u001b[32m325.5/325.5 kB\u001b[0m \u001b[31m4.9 MB/s\u001b[0m eta \u001b[36m0:00:00\u001b[0m\n",
            "\u001b[2K     \u001b[90m━━━━━━━━━━━━━━━━━━━━━━━━━━━━━━━━━━━━━━━━\u001b[0m \u001b[32m75.6/75.6 kB\u001b[0m \u001b[31m6.7 MB/s\u001b[0m eta \u001b[36m0:00:00\u001b[0m\n",
            "\u001b[2K     \u001b[90m━━━━━━━━━━━━━━━━━━━━━━━━━━━━━━━━━━━━━━━━\u001b[0m \u001b[32m77.9/77.9 kB\u001b[0m \u001b[31m7.6 MB/s\u001b[0m eta \u001b[36m0:00:00\u001b[0m\n",
            "\u001b[2K     \u001b[90m━━━━━━━━━━━━━━━━━━━━━━━━━━━━━━━━━━━━━━━━\u001b[0m \u001b[32m58.3/58.3 kB\u001b[0m \u001b[31m6.4 MB/s\u001b[0m eta \u001b[36m0:00:00\u001b[0m\n",
            "\u001b[?25h"
          ]
        }
      ]
    },
    {
      "cell_type": "code",
      "source": [
        "pip install langchain_openai"
      ],
      "metadata": {
        "collapsed": true,
        "id": "JPk6OFs1XQn-"
      },
      "execution_count": null,
      "outputs": []
    },
    {
      "cell_type": "code",
      "source": [
        "pip install -U langchain-community"
      ],
      "metadata": {
        "collapsed": true,
        "id": "PP2pYaWDX2in"
      },
      "execution_count": null,
      "outputs": []
    },
    {
      "cell_type": "code",
      "source": [
        "pip install -U langchain_experimental"
      ],
      "metadata": {
        "collapsed": true,
        "id": "KxELeFU4YFQg"
      },
      "execution_count": null,
      "outputs": []
    },
    {
      "cell_type": "code",
      "source": [
        "from langchain_openai import OpenAI\n",
        "from langchain.sql_database import SQLDatabase\n",
        "from langchain_experimental.sql import SQLDatabaseChain"
      ],
      "metadata": {
        "id": "F83fRHgMWX1M"
      },
      "execution_count": 21,
      "outputs": []
    },
    {
      "cell_type": "code",
      "source": [
        "import os\n",
        "os.environ['OPENAI_API_KEY'] = ''"
      ],
      "metadata": {
        "id": "OEjWu09KWdmc"
      },
      "execution_count": 22,
      "outputs": []
    },
    {
      "cell_type": "code",
      "source": [
        "input_db = SQLDatabase.from_uri('sqlite:///fashion_db.sqlite')\n",
        "llm_1 = OpenAI(temperature=0)\n",
        "\n",
        "\n",
        "db_agent = SQLDatabaseChain(llm = llm_1,\n",
        "                            database = input_db,\n",
        "                            verbose=True)"
      ],
      "metadata": {
        "colab": {
          "base_uri": "https://localhost:8080/"
        },
        "id": "zS2voM0RYhu5",
        "outputId": "e7bc12c1-6c55-442c-c2ba-42437153f31a"
      },
      "execution_count": 23,
      "outputs": [
        {
          "output_type": "stream",
          "name": "stderr",
          "text": [
            "/usr/local/lib/python3.10/dist-packages/langchain_experimental/sql/base.py:77: UserWarning: Directly instantiating an SQLDatabaseChain with an llm is deprecated. Please instantiate with llm_chain argument or using the from_llm class method.\n",
            "  warnings.warn(\n"
          ]
        }
      ]
    },
    {
      "cell_type": "code",
      "source": [
        "db_agent.run(\"how many rows are there?\")"
      ],
      "metadata": {
        "colab": {
          "base_uri": "https://localhost:8080/",
          "height": 240
        },
        "id": "ZmMrq_JvYi7Y",
        "outputId": "aa9ecfec-42d2-45c4-d4f9-713ff542f63e"
      },
      "execution_count": 24,
      "outputs": [
        {
          "output_type": "stream",
          "name": "stderr",
          "text": [
            "/usr/local/lib/python3.10/dist-packages/langchain_core/_api/deprecation.py:139: LangChainDeprecationWarning: The method `Chain.run` was deprecated in langchain 0.1.0 and will be removed in 0.3.0. Use invoke instead.\n",
            "  warn_deprecated(\n"
          ]
        },
        {
          "output_type": "stream",
          "name": "stdout",
          "text": [
            "\n",
            "\n",
            "\u001b[1m> Entering new SQLDatabaseChain chain...\u001b[0m\n",
            "how many rows are there?\n",
            "SQLQuery:\u001b[32;1m\u001b[1;3mSELECT COUNT(*) FROM fashion_products\u001b[0m\n",
            "SQLResult: \u001b[33;1m\u001b[1;3m[(1000,)]\u001b[0m\n",
            "Answer:\u001b[32;1m\u001b[1;3m1000\u001b[0m\n",
            "\u001b[1m> Finished chain.\u001b[0m\n"
          ]
        },
        {
          "output_type": "execute_result",
          "data": {
            "text/plain": [
              "'1000'"
            ],
            "application/vnd.google.colaboratory.intrinsic+json": {
              "type": "string"
            }
          },
          "metadata": {},
          "execution_count": 24
        }
      ]
    },
    {
      "cell_type": "code",
      "source": [
        "db_agent.run(\"how many entries of Adidas are present?\")"
      ],
      "metadata": {
        "colab": {
          "base_uri": "https://localhost:8080/",
          "height": 183
        },
        "id": "BZ4NPp9bYpER",
        "outputId": "3aa5a90f-d0bb-46e3-e754-9daaa6dcb3b5"
      },
      "execution_count": 25,
      "outputs": [
        {
          "output_type": "stream",
          "name": "stdout",
          "text": [
            "\n",
            "\n",
            "\u001b[1m> Entering new SQLDatabaseChain chain...\u001b[0m\n",
            "how many entries of Adidas are present?\n",
            "SQLQuery:\u001b[32;1m\u001b[1;3mSELECT COUNT(*) FROM fashion_products WHERE brand = \"Adidas\"\u001b[0m\n",
            "SQLResult: \u001b[33;1m\u001b[1;3m[(198,)]\u001b[0m\n",
            "Answer:\u001b[32;1m\u001b[1;3m198\u001b[0m\n",
            "\u001b[1m> Finished chain.\u001b[0m\n"
          ]
        },
        {
          "output_type": "execute_result",
          "data": {
            "text/plain": [
              "'198'"
            ],
            "application/vnd.google.colaboratory.intrinsic+json": {
              "type": "string"
            }
          },
          "metadata": {},
          "execution_count": 25
        }
      ]
    },
    {
      "cell_type": "code",
      "source": [
        "db_agent.run(\"how many XL products of Nike are there that have a rating of more than 4?\")"
      ],
      "metadata": {
        "colab": {
          "base_uri": "https://localhost:8080/",
          "height": 183
        },
        "id": "JooFIwCuYsur",
        "outputId": "46fabf25-3185-4830-8267-f6332e7ce663"
      },
      "execution_count": 26,
      "outputs": [
        {
          "output_type": "stream",
          "name": "stdout",
          "text": [
            "\n",
            "\n",
            "\u001b[1m> Entering new SQLDatabaseChain chain...\u001b[0m\n",
            "how many XL products of Nike are there that have a rating of more than 4?\n",
            "SQLQuery:\u001b[32;1m\u001b[1;3mSELECT COUNT(*) FROM fashion_products WHERE brand = \"Nike\" AND size = \"XL\" AND \"Rating\" > 4\u001b[0m\n",
            "SQLResult: \u001b[33;1m\u001b[1;3m[(12,)]\u001b[0m\n",
            "Answer:\u001b[32;1m\u001b[1;3mThere are 12 XL products of Nike that have a rating of more than 4.\u001b[0m\n",
            "\u001b[1m> Finished chain.\u001b[0m\n"
          ]
        },
        {
          "output_type": "execute_result",
          "data": {
            "text/plain": [
              "'There are 12 XL products of Nike that have a rating of more than 4.'"
            ],
            "application/vnd.google.colaboratory.intrinsic+json": {
              "type": "string"
            }
          },
          "metadata": {},
          "execution_count": 26
        }
      ]
    },
    {
      "cell_type": "code",
      "source": [],
      "metadata": {
        "id": "kfjYkiuGYxYO"
      },
      "execution_count": null,
      "outputs": []
    }
  ]
}